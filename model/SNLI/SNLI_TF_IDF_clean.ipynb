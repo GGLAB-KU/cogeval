{
  "cells": [
    {
      "cell_type": "markdown",
      "id": "UNSzbx8eH4ei",
      "metadata": {
        "id": "UNSzbx8eH4ei"
      },
      "source": [
        "**Include reference to used public repos!**\n",
        "\n",
        "\n",
        "\n"
      ]
    },
    {
      "cell_type": "code",
      "execution_count": 19,
      "id": "cbc87a10",
      "metadata": {
        "id": "cbc87a10"
      },
      "outputs": [],
      "source": [
        "import pickle\n",
        "\n",
        "\n",
        "def read_data():\n",
        "    with open('./data/preprocessed/train_list_sentence1.txt', \"rb\") as file:\n",
        "        train_list_sentence1 = pickle.load(file)\n",
        "\n",
        "    with open('./data/preprocessed/train_list_sentence2.txt', \"rb\") as file:\n",
        "        train_list_sentence2 = pickle.load(file)\n",
        "\n",
        "    with open('./data/preprocessed/train_list_gold_label.txt', \"rb\") as file:\n",
        "        train_list_gold_label = pickle.load(file)\n",
        "\n",
        "    with open('./data/preprocessed/test_list_sentence1.txt', \"rb\") as file:\n",
        "        test_list_sentence1 = pickle.load(file)\n",
        "\n",
        "    with open('./data/preprocessed/test_list_sentence2.txt', \"rb\") as file:\n",
        "        test_list_sentence2 = pickle.load(file)\n",
        "\n",
        "    with open('./data/preprocessed/test_list_gold_label.txt', \"rb\") as file:\n",
        "        test_list_gold_label = pickle.load(file)\n",
        "        \n",
        "    with open('./data/preprocessed/lalor_list_sentence1.txt', \"rb\") as file:\n",
        "        lalor_list_sentence1 = pickle.load(file)\n",
        "\n",
        "    with open('./data/preprocessed/lalor_list_sentence2.txt', \"rb\") as file:\n",
        "        lalor_list_sentence2 = pickle.load(file)\n",
        "\n",
        "    with open('./data/preprocessed/lalor_list_gold_label.txt', \"rb\") as file:\n",
        "        lalor_list_gold_label = pickle.load(file)        \n",
        "    \n",
        "\n",
        "    data = [[train_list_sentence1], [train_list_sentence2], [train_list_gold_label],\n",
        "            [test_list_sentence1], [test_list_sentence2], [test_list_gold_label],\n",
        "            [lalor_list_sentence1], [lalor_list_sentence2], [lalor_list_gold_label],\n",
        "           ]\n",
        "\n",
        "    return data"
      ]
    },
    {
      "cell_type": "code",
      "execution_count": 20,
      "id": "603f31c9",
      "metadata": {
        "id": "603f31c9"
      },
      "outputs": [],
      "source": [
        "import pickle\n",
        "import numpy as np\n",
        "import scipy.sparse\n",
        "from sklearn.feature_extraction.text import TfidfVectorizer\n",
        "\n",
        "\n",
        "# Process the data and return the TFIDF features and the labels for the data\n",
        "def TFIDF_features(data, mode):\n",
        "    # Get the sentences and labels from composite data\n",
        "    list_sentence1 = data[0][0]\n",
        "    list_sentence2 = data[1][0]\n",
        "    list_gold_label = data[2][0]\n",
        "\n",
        "    # Merge each sublist (tokens list of each sentence) to a string\n",
        "    corpus_sentence1 = [' '.join(item) for item in list_sentence1]\n",
        "    corpus_sentence2 = [' '.join(item) for item in list_sentence2]\n",
        "    num_samples = len(list_gold_label)\n",
        "\n",
        "    # Create a composite corpus over which to train the TFIDF Vectorizer\n",
        "    # Corresponding lines of sentence1 and sentence2 are merged together\n",
        "    corpus = [corpus_sentence1[ind] + \" \" + corpus_sentence2[ind] for ind in range(num_samples)]\n",
        "\n",
        "    del_list =[]\n",
        "    tfidf_labels = [None] * num_samples\n",
        "    for ind, item in enumerate(list_gold_label):\n",
        "        if item == \"contradiction\":\n",
        "            tfidf_labels[ind] = 0\n",
        "        elif item == \"neutral\":\n",
        "            tfidf_labels[ind] = 1\n",
        "        elif item == \"entailment\":\n",
        "            tfidf_labels[ind] = 2\n",
        "        else:\n",
        "            tfidf_labels[ind] = 99\n",
        "            del_list.append(ind)\n",
        "\n",
        "    # Delete entries with gold_label \"-\"\n",
        "    del_list.sort(reverse=True)\n",
        "    for ind in del_list:\n",
        "        del corpus[ind]\n",
        "        del corpus_sentence1[ind]\n",
        "        del corpus_sentence2[ind]\n",
        "        del tfidf_labels[ind]\n",
        "\n",
        "    # If mode is training we fit our TFIDF Vectorizer over our composite corpus and store it in\n",
        "    # pickle format. During testing time, we retrieve this same vectorizer to generate TFIDF\n",
        "    # representations for out text input\n",
        "    if mode == \"train\":\n",
        "        TFIDF_vect = TfidfVectorizer()\n",
        "        TFIDF_vect.fit(corpus)\n",
        "        \n",
        "        with open('./checkpoints/TF-IDF/TFIDF.pickle', \"wb\") as file:\n",
        "            pickle.dump(TFIDF_vect, file)\n",
        "\n",
        "    elif mode == \"test\":\n",
        "        with open('./checkpoints/TF-IDF/TFIDF.pickle', \"rb\") as file:\n",
        "            TFIDF_vect = pickle.load(file)\n",
        "\n",
        "    else:\n",
        "        print(\"Invalid mode selection\")\n",
        "        exit(0)\n",
        "\n",
        "    # Generate TFIDF representations for out dataset\n",
        "    tfidf_sentecnce1 = TFIDF_vect.transform(corpus_sentence1)\n",
        "    tfidf_sentecnce2 = TFIDF_vect.transform(corpus_sentence2)\n",
        "\n",
        "    # TFIDF vectors for sentence1 and sentence2 and concatenated\n",
        "    tfidf_feature_array = scipy.sparse.hstack((tfidf_sentecnce1, tfidf_sentecnce2))\n",
        "\n",
        "    return tfidf_feature_array, tfidf_labels"
      ]
    },
    {
      "cell_type": "code",
      "execution_count": 21,
      "id": "4012fb7d",
      "metadata": {
        "id": "4012fb7d"
      },
      "outputs": [],
      "source": [
        "# Imports\n",
        "import pickle\n",
        "from sklearn.linear_model import LogisticRegression\n",
        "\n",
        "\n",
        "# Trains and stores a logistic regression model\n",
        "def logistic_regression_train(train_data):\n",
        "    # Obtain the TFIDF features\n",
        "    train_feature, train_label = TFIDF_features(train_data, \"train\")\n",
        "\n",
        "    # Train the logistic regression model\n",
        "    LR_model = LogisticRegression(random_state=0, max_iter=1000, solver='lbfgs', multi_class='auto')\n",
        "    LR_model.fit(train_feature, train_label)\n",
        "\n",
        "    # Save the logistic regression model as a pickle file\n",
        "    with open('./checkpoints/TF-IDF/LR.pickle', \"wb\") as file:\n",
        "        pickle.dump(LR_model, file)\n",
        "\n",
        "    print(\"Training complete.\\n\")"
      ]
    },
    {
      "cell_type": "code",
      "execution_count": 22,
      "id": "81fe3aad",
      "metadata": {
        "id": "81fe3aad"
      },
      "outputs": [],
      "source": [
        "data = read_data()\n",
        "train_data = data[:3]\n",
        "test_data = data[3:7]\n",
        "lalor_data = data[6:]"
      ]
    },
    {
      "cell_type": "code",
      "execution_count": 23,
      "id": "243f1b99",
      "metadata": {
        "colab": {
          "base_uri": "https://localhost:8080/"
        },
        "id": "243f1b99",
        "outputId": "4daa2a82-4c50-4277-87bb-d1f88e706891"
      },
      "outputs": [
        {
          "name": "stdout",
          "output_type": "stream",
          "text": [
            "Training complete.\n",
            "\n"
          ]
        }
      ],
      "source": [
        "logistic_regression_train(train_data)"
      ]
    },
    {
      "cell_type": "code",
      "execution_count": 24,
      "id": "33fcccb0",
      "metadata": {
        "id": "33fcccb0"
      },
      "outputs": [],
      "source": [
        "# Imports\n",
        "import pickle\n",
        "\n",
        "# Loads and tests the logistic regression model\n",
        "def logistic_regression_test(test_data):\n",
        "    # Obtain the TFIDF features\n",
        "    test_feature, test_label = TFIDF_features(test_data, \"test\")\n",
        "\n",
        "    # Loads the logistic regression model from pickle file\n",
        "    with open('./checkpoints/TF-IDF/LR.pickle', \"rb\") as file:\n",
        "        LR_model = pickle.load(file)\n",
        "\n",
        "    # Tests the logistic regression model\n",
        "    pred_labels = LR_model.predict(test_feature)\n",
        "    pred_prob = LR_model.predict_proba(test_feature)\n",
        "\n",
        "    with open('./output/tfidf.txt', \"w\") as file:\n",
        "        for item in pred_labels:\n",
        "            if item == 0:\n",
        "                file.write(\"contradiction\\n\")\n",
        "            elif item == 1:\n",
        "                file.write(\"neutral\\n\")\n",
        "            elif item == 2:\n",
        "                file.write(\"entailment\\n\")\n",
        "            else:\n",
        "                pass\n",
        "\n",
        "    # Evaluate and print the results\n",
        "    score = LR_model.score(test_feature, test_label) * 100\n",
        "    print(\"The classification accuracy for Logistic regression with TF-IDF features is {:.2f}%.\".format(score))\n",
        "    \n",
        "    return pred_labels, pred_prob"
      ]
    },
    {
      "cell_type": "code",
      "execution_count": 25,
      "id": "7f0227fd",
      "metadata": {
        "colab": {
          "base_uri": "https://localhost:8080/"
        },
        "id": "7f0227fd",
        "outputId": "14e6fa30-6901-44d7-f6ee-5771c1a31430"
      },
      "outputs": [
        {
          "name": "stdout",
          "output_type": "stream",
          "text": [
            "The classification accuracy for Logistic regression with TF-IDF features is 63.58%.\n"
          ]
        },
        {
          "data": {
            "text/plain": [
              "(array([0, 1, 2, ..., 0, 2, 1]),\n",
              " array([[0.46715191, 0.25189428, 0.28095381],\n",
              "        [0.25301601, 0.4714402 , 0.27554379],\n",
              "        [0.23638262, 0.31943414, 0.44418324],\n",
              "        ...,\n",
              "        [0.70467709, 0.11524288, 0.18008003],\n",
              "        [0.29206364, 0.15854118, 0.54939518],\n",
              "        [0.23228765, 0.6084261 , 0.15928625]]))"
            ]
          },
          "execution_count": 25,
          "metadata": {},
          "output_type": "execute_result"
        }
      ],
      "source": [
        "logistic_regression_test(test_data)"
      ]
    },
    {
      "cell_type": "code",
      "execution_count": 26,
      "id": "6aff247f",
      "metadata": {
        "colab": {
          "base_uri": "https://localhost:8080/"
        },
        "id": "6aff247f",
        "outputId": "b9ce2ae2-90c9-4a5a-f529-021b5b26d6ee"
      },
      "outputs": [
        {
          "name": "stdout",
          "output_type": "stream",
          "text": [
            "The classification accuracy for Logistic regression with TF-IDF features is 51.11%.\n"
          ]
        }
      ],
      "source": [
        "pred, pred_prob = logistic_regression_test(lalor_data)"
      ]
    },
    {
      "cell_type": "code",
      "execution_count": 27,
      "id": "c5e1270b",
      "metadata": {
        "colab": {
          "base_uri": "https://localhost:8080/",
          "height": 1000
        },
        "id": "c5e1270b",
        "outputId": "35a24214-fef6-446a-cc39-38f19e811bf4"
      },
      "outputs": [],
      "source": [
        "import pandas as pd\n",
        "\n",
        "df_lalor = pd.read_csv('../../data/human/SNLI-lalor/snli_human_4gs.csv', sep=',', header=0)\n"
      ]
    },
    {
      "cell_type": "code",
      "execution_count": 28,
      "id": "4e8c3532",
      "metadata": {
        "colab": {
          "base_uri": "https://localhost:8080/",
          "height": 1000
        },
        "id": "4e8c3532",
        "outputId": "3d0e6a76-0df0-4ed8-c6f4-a00271802817"
      },
      "outputs": [
        {
          "data": {
            "text/html": [
              "<div>\n",
              "<style scoped>\n",
              "    .dataframe tbody tr th:only-of-type {\n",
              "        vertical-align: middle;\n",
              "    }\n",
              "\n",
              "    .dataframe tbody tr th {\n",
              "        vertical-align: top;\n",
              "    }\n",
              "\n",
              "    .dataframe thead th {\n",
              "        text-align: right;\n",
              "    }\n",
              "</style>\n",
              "<table border=\"1\" class=\"dataframe\">\n",
              "  <thead>\n",
              "    <tr style=\"text-align: right;\">\n",
              "      <th></th>\n",
              "      <th>sample_id</th>\n",
              "      <th>snli_id</th>\n",
              "      <th>sentence_1</th>\n",
              "      <th>sentence_2</th>\n",
              "      <th>label</th>\n",
              "      <th>item_difficulty</th>\n",
              "      <th>average_accuracy</th>\n",
              "      <th>flesch_score_textstat</th>\n",
              "      <th>mean_grade_level_textstat</th>\n",
              "      <th>number_of_words</th>\n",
              "      <th>number_of_characters</th>\n",
              "      <th>prob_0</th>\n",
              "      <th>prob_1</th>\n",
              "      <th>prob_2</th>\n",
              "      <th>pred</th>\n",
              "      <th>entropy</th>\n",
              "    </tr>\n",
              "  </thead>\n",
              "  <tbody>\n",
              "    <tr>\n",
              "      <th>0</th>\n",
              "      <td>0</td>\n",
              "      <td>1947351225.jpg#0r1c</td>\n",
              "      <td>A little boy is opening gifts surrounded by a ...</td>\n",
              "      <td>The boy is being punished</td>\n",
              "      <td>contradiction</td>\n",
              "      <td>-1.759822</td>\n",
              "      <td>0.839139</td>\n",
              "      <td>78.75</td>\n",
              "      <td>6.0</td>\n",
              "      <td>19</td>\n",
              "      <td>101</td>\n",
              "      <td></td>\n",
              "      <td></td>\n",
              "      <td></td>\n",
              "      <td></td>\n",
              "      <td></td>\n",
              "    </tr>\n",
              "    <tr>\n",
              "      <th>1</th>\n",
              "      <td>1</td>\n",
              "      <td>3626964430.jpg#0r1e</td>\n",
              "      <td>People playing cricket in the park, pine trees...</td>\n",
              "      <td>People are playing sports in the park, near th...</td>\n",
              "      <td>entailment</td>\n",
              "      <td>-2.179087</td>\n",
              "      <td>0.886270</td>\n",
              "      <td>94.15</td>\n",
              "      <td>5.0</td>\n",
              "      <td>22</td>\n",
              "      <td>118</td>\n",
              "      <td></td>\n",
              "      <td></td>\n",
              "      <td></td>\n",
              "      <td></td>\n",
              "      <td></td>\n",
              "    </tr>\n",
              "    <tr>\n",
              "      <th>2</th>\n",
              "      <td>2</td>\n",
              "      <td>4576144189.jpg#3r1e</td>\n",
              "      <td>Some people hanging out on a large backyard deck.</td>\n",
              "      <td>people hanging out on deck</td>\n",
              "      <td>entailment</td>\n",
              "      <td>-3.137178</td>\n",
              "      <td>0.951844</td>\n",
              "      <td>81.29</td>\n",
              "      <td>3.0</td>\n",
              "      <td>14</td>\n",
              "      <td>76</td>\n",
              "      <td></td>\n",
              "      <td></td>\n",
              "      <td></td>\n",
              "      <td></td>\n",
              "      <td></td>\n",
              "    </tr>\n",
              "    <tr>\n",
              "      <th>3</th>\n",
              "      <td>3</td>\n",
              "      <td>507370108.jpg#3r1n</td>\n",
              "      <td>A group of dancers are performing.</td>\n",
              "      <td>The audience is silent.</td>\n",
              "      <td>neutral</td>\n",
              "      <td>-1.982105</td>\n",
              "      <td>0.865779</td>\n",
              "      <td>83.32</td>\n",
              "      <td>3.0</td>\n",
              "      <td>10</td>\n",
              "      <td>58</td>\n",
              "      <td></td>\n",
              "      <td></td>\n",
              "      <td></td>\n",
              "      <td></td>\n",
              "      <td></td>\n",
              "    </tr>\n",
              "    <tr>\n",
              "      <th>4</th>\n",
              "      <td>4</td>\n",
              "      <td>3361210233.jpg#0r1n</td>\n",
              "      <td>A large brown and white dog is carrying a stic...</td>\n",
              "      <td>A puppy is playing fetch with a stick.</td>\n",
              "      <td>neutral</td>\n",
              "      <td>-0.280872</td>\n",
              "      <td>0.565574</td>\n",
              "      <td>93.14</td>\n",
              "      <td>4.0</td>\n",
              "      <td>24</td>\n",
              "      <td>118</td>\n",
              "      <td></td>\n",
              "      <td></td>\n",
              "      <td></td>\n",
              "      <td></td>\n",
              "      <td></td>\n",
              "    </tr>\n",
              "    <tr>\n",
              "      <th>...</th>\n",
              "      <td>...</td>\n",
              "      <td>...</td>\n",
              "      <td>...</td>\n",
              "      <td>...</td>\n",
              "      <td>...</td>\n",
              "      <td>...</td>\n",
              "      <td>...</td>\n",
              "      <td>...</td>\n",
              "      <td>...</td>\n",
              "      <td>...</td>\n",
              "      <td>...</td>\n",
              "      <td>...</td>\n",
              "      <td>...</td>\n",
              "      <td>...</td>\n",
              "      <td>...</td>\n",
              "      <td>...</td>\n",
              "    </tr>\n",
              "    <tr>\n",
              "      <th>85</th>\n",
              "      <td>85</td>\n",
              "      <td>3381788544.jpg#0r1c</td>\n",
              "      <td>A group of asian women in sports attire, and o...</td>\n",
              "      <td>Men are playing with a dog</td>\n",
              "      <td>contradiction</td>\n",
              "      <td>-0.622317</td>\n",
              "      <td>0.641393</td>\n",
              "      <td>84.17</td>\n",
              "      <td>5.0</td>\n",
              "      <td>25</td>\n",
              "      <td>122</td>\n",
              "      <td></td>\n",
              "      <td></td>\n",
              "      <td></td>\n",
              "      <td></td>\n",
              "      <td></td>\n",
              "    </tr>\n",
              "    <tr>\n",
              "      <th>86</th>\n",
              "      <td>86</td>\n",
              "      <td>3070485870.jpg#3r1n</td>\n",
              "      <td>A snowboarder is jumping over a snow slope.</td>\n",
              "      <td>A girl jumps her green snowboard over a slope.</td>\n",
              "      <td>neutral</td>\n",
              "      <td>-0.885338</td>\n",
              "      <td>0.695697</td>\n",
              "      <td>96.69</td>\n",
              "      <td>6.0</td>\n",
              "      <td>17</td>\n",
              "      <td>90</td>\n",
              "      <td></td>\n",
              "      <td></td>\n",
              "      <td></td>\n",
              "      <td></td>\n",
              "      <td></td>\n",
              "    </tr>\n",
              "    <tr>\n",
              "      <th>87</th>\n",
              "      <td>87</td>\n",
              "      <td>4788967880.jpg#0r1n</td>\n",
              "      <td>a group of people on a dock lowering into the ...</td>\n",
              "      <td>The group was getting ready to go fishing on t...</td>\n",
              "      <td>neutral</td>\n",
              "      <td>-1.689649</td>\n",
              "      <td>0.829918</td>\n",
              "      <td>73.68</td>\n",
              "      <td>7.0</td>\n",
              "      <td>29</td>\n",
              "      <td>147</td>\n",
              "      <td></td>\n",
              "      <td></td>\n",
              "      <td></td>\n",
              "      <td></td>\n",
              "      <td></td>\n",
              "    </tr>\n",
              "    <tr>\n",
              "      <th>88</th>\n",
              "      <td>88</td>\n",
              "      <td>4831683216.jpg#0r1c</td>\n",
              "      <td>A young girl in a bathing suit drinking a beve...</td>\n",
              "      <td>The girl is drinking milk from a sippy cup.</td>\n",
              "      <td>contradiction</td>\n",
              "      <td>0.523880</td>\n",
              "      <td>0.381148</td>\n",
              "      <td>85.18</td>\n",
              "      <td>6.0</td>\n",
              "      <td>23</td>\n",
              "      <td>113</td>\n",
              "      <td></td>\n",
              "      <td></td>\n",
              "      <td></td>\n",
              "      <td></td>\n",
              "      <td></td>\n",
              "    </tr>\n",
              "    <tr>\n",
              "      <th>89</th>\n",
              "      <td>89</td>\n",
              "      <td>3030015033.jpg#2r1n</td>\n",
              "      <td>Two people are sitting at a table outside of a...</td>\n",
              "      <td>Two people are sitting eating lunch</td>\n",
              "      <td>neutral</td>\n",
              "      <td>-1.833203</td>\n",
              "      <td>0.848361</td>\n",
              "      <td>71.31</td>\n",
              "      <td>4.0</td>\n",
              "      <td>17</td>\n",
              "      <td>92</td>\n",
              "      <td></td>\n",
              "      <td></td>\n",
              "      <td></td>\n",
              "      <td></td>\n",
              "      <td></td>\n",
              "    </tr>\n",
              "  </tbody>\n",
              "</table>\n",
              "<p>90 rows × 16 columns</p>\n",
              "</div>"
            ],
            "text/plain": [
              "    sample_id              snli_id  \\\n",
              "0           0  1947351225.jpg#0r1c   \n",
              "1           1  3626964430.jpg#0r1e   \n",
              "2           2  4576144189.jpg#3r1e   \n",
              "3           3   507370108.jpg#3r1n   \n",
              "4           4  3361210233.jpg#0r1n   \n",
              "..        ...                  ...   \n",
              "85         85  3381788544.jpg#0r1c   \n",
              "86         86  3070485870.jpg#3r1n   \n",
              "87         87  4788967880.jpg#0r1n   \n",
              "88         88  4831683216.jpg#0r1c   \n",
              "89         89  3030015033.jpg#2r1n   \n",
              "\n",
              "                                           sentence_1  \\\n",
              "0   A little boy is opening gifts surrounded by a ...   \n",
              "1   People playing cricket in the park, pine trees...   \n",
              "2   Some people hanging out on a large backyard deck.   \n",
              "3                  A group of dancers are performing.   \n",
              "4   A large brown and white dog is carrying a stic...   \n",
              "..                                                ...   \n",
              "85  A group of asian women in sports attire, and o...   \n",
              "86        A snowboarder is jumping over a snow slope.   \n",
              "87  a group of people on a dock lowering into the ...   \n",
              "88  A young girl in a bathing suit drinking a beve...   \n",
              "89  Two people are sitting at a table outside of a...   \n",
              "\n",
              "                                           sentence_2          label  \\\n",
              "0                           The boy is being punished  contradiction   \n",
              "1   People are playing sports in the park, near th...     entailment   \n",
              "2                          people hanging out on deck     entailment   \n",
              "3                             The audience is silent.        neutral   \n",
              "4              A puppy is playing fetch with a stick.        neutral   \n",
              "..                                                ...            ...   \n",
              "85                         Men are playing with a dog  contradiction   \n",
              "86     A girl jumps her green snowboard over a slope.        neutral   \n",
              "87  The group was getting ready to go fishing on t...        neutral   \n",
              "88        The girl is drinking milk from a sippy cup.  contradiction   \n",
              "89                Two people are sitting eating lunch        neutral   \n",
              "\n",
              "    item_difficulty  average_accuracy  flesch_score_textstat  \\\n",
              "0         -1.759822          0.839139                  78.75   \n",
              "1         -2.179087          0.886270                  94.15   \n",
              "2         -3.137178          0.951844                  81.29   \n",
              "3         -1.982105          0.865779                  83.32   \n",
              "4         -0.280872          0.565574                  93.14   \n",
              "..              ...               ...                    ...   \n",
              "85        -0.622317          0.641393                  84.17   \n",
              "86        -0.885338          0.695697                  96.69   \n",
              "87        -1.689649          0.829918                  73.68   \n",
              "88         0.523880          0.381148                  85.18   \n",
              "89        -1.833203          0.848361                  71.31   \n",
              "\n",
              "    mean_grade_level_textstat  number_of_words  number_of_characters prob_0  \\\n",
              "0                         6.0               19                   101          \n",
              "1                         5.0               22                   118          \n",
              "2                         3.0               14                    76          \n",
              "3                         3.0               10                    58          \n",
              "4                         4.0               24                   118          \n",
              "..                        ...              ...                   ...    ...   \n",
              "85                        5.0               25                   122          \n",
              "86                        6.0               17                    90          \n",
              "87                        7.0               29                   147          \n",
              "88                        6.0               23                   113          \n",
              "89                        4.0               17                    92          \n",
              "\n",
              "   prob_1 prob_2 pred entropy  \n",
              "0                              \n",
              "1                              \n",
              "2                              \n",
              "3                              \n",
              "4                              \n",
              "..    ...    ...  ...     ...  \n",
              "85                             \n",
              "86                             \n",
              "87                             \n",
              "88                             \n",
              "89                             \n",
              "\n",
              "[90 rows x 16 columns]"
            ]
          },
          "execution_count": 28,
          "metadata": {},
          "output_type": "execute_result"
        }
      ],
      "source": [
        "df_lalor['prob_0'] = ''\n",
        "df_lalor['prob_1'] = ''\n",
        "df_lalor['prob_2'] = ''\n",
        "df_lalor['pred'] = ''\n",
        "df_lalor['entropy'] = ''\n",
        "df_lalor"
      ]
    },
    {
      "cell_type": "code",
      "execution_count": 29,
      "id": "24a6895d",
      "metadata": {
        "id": "24a6895d"
      },
      "outputs": [],
      "source": [
        "df_lalor['snli_id'] = df_lalor['snli_id'].str.replace('\\t','')"
      ]
    },
    {
      "cell_type": "code",
      "execution_count": 30,
      "id": "0018bcff",
      "metadata": {
        "id": "0018bcff"
      },
      "outputs": [],
      "source": [
        "sample_indices = {}\n",
        "\n",
        "for ind, row in df_lalor.iterrows():\n",
        "    sample_indices[row['snli_id']] = ind"
      ]
    },
    {
      "cell_type": "code",
      "execution_count": 31,
      "id": "8a5ce4c4",
      "metadata": {
        "id": "8a5ce4c4"
      },
      "outputs": [],
      "source": [
        "from scipy.stats import entropy\n",
        "import json\n",
        "\n",
        "f = open('./data/snli_1.0_train_lalor.jsonl', 'r')\n",
        "\n",
        "index = 0\n",
        "    \n",
        "for line in f:\n",
        "    data = json.loads(line)   \n",
        "    \n",
        "    snli_id = data['pairID'].strip()\n",
        "    snli_id = snli_id.replace('\\t', '')\n",
        "    # print(snli_id)\n",
        "    \n",
        "    df_lalor.at[sample_indices[snli_id], 'pred'] = pred[index]    \n",
        "    df_lalor.at[sample_indices[snli_id], 'prob_0'] = pred_prob[index][0]\n",
        "    df_lalor.at[sample_indices[snli_id], 'prob_1'] = pred_prob[index][1]\n",
        "    df_lalor.at[sample_indices[snli_id], 'prob_2'] = pred_prob[index][2]\n",
        "    df_lalor.at[sample_indices[snli_id], 'entropy'] = entropy(pred_prob[index], base=2)   \n",
        "    df_lalor.at[sample_indices[snli_id], 'confidence'] = max(pred_prob[index])   \n",
        "\n",
        "    index += 1\n",
        "    \n",
        "f.close()"
      ]
    },
    {
      "cell_type": "code",
      "execution_count": 32,
      "id": "6c15d713",
      "metadata": {
        "colab": {
          "base_uri": "https://localhost:8080/",
          "height": 1000
        },
        "id": "6c15d713",
        "outputId": "1c93f88c-7c05-46a2-bdfe-d7c5451e58ae"
      },
      "outputs": [],
      "source": [
        "conversion_dict = {2: \"entailment\", 1: \"neutral\", 0: \"contradiction\"}\n",
        "df_lalor['predictions'] = df_lalor['pred'].replace(conversion_dict)"
      ]
    },
    {
      "cell_type": "code",
      "execution_count": 33,
      "id": "0c735315",
      "metadata": {
        "id": "0c735315"
      },
      "outputs": [],
      "source": [
        "df_lalor.to_csv(\"./output/snli_tfidf.csv\", index=False, header=True)"
      ]
    },
    {
      "cell_type": "code",
      "execution_count": 34,
      "id": "BfnIq8_oNQ4p",
      "metadata": {
        "colab": {
          "base_uri": "https://localhost:8080/"
        },
        "id": "BfnIq8_oNQ4p",
        "outputId": "ae54330e-876e-4b06-89c8-7eb1db8004b2"
      },
      "outputs": [
        {
          "data": {
            "text/plain": [
              "0.5111111111111111"
            ]
          },
          "execution_count": 34,
          "metadata": {},
          "output_type": "execute_result"
        }
      ],
      "source": [
        "df_lalor[df_lalor.label == df_lalor.predictions].shape[0]/df_lalor.shape[0]"
      ]
    }
  ],
  "metadata": {
    "accelerator": "GPU",
    "colab": {
      "provenance": []
    },
    "gpuClass": "standard",
    "kernelspec": {
      "display_name": "Python 3 (ipykernel)",
      "language": "python",
      "name": "python3"
    },
    "language_info": {
      "codemirror_mode": {
        "name": "ipython",
        "version": 3
      },
      "file_extension": ".py",
      "mimetype": "text/x-python",
      "name": "python",
      "nbconvert_exporter": "python",
      "pygments_lexer": "ipython3",
      "version": "3.8.16"
    }
  },
  "nbformat": 4,
  "nbformat_minor": 5
}
