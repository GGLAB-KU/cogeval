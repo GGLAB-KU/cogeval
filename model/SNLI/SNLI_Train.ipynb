{
  "cells": [
    {
      "cell_type": "markdown",
      "metadata": {
        "id": "wytSQEKSXRTR"
      },
      "source": [
        "## Initialization\n",
        "\n"
      ]
    },
    {
      "cell_type": "code",
      "execution_count": null,
      "metadata": {
        "id": "qRPOcMp907Mz"
      },
      "outputs": [],
      "source": [
        "# check the GPU model\n",
        "!nvidia-smi"
      ]
    },
    {
      "cell_type": "code",
      "execution_count": null,
      "metadata": {
        "id": "-RwHDw_hez80"
      },
      "outputs": [],
      "source": [
        "from google.colab import drive\n",
        "drive.mount('/content/drive')"
      ]
    },
    {
      "cell_type": "code",
      "execution_count": null,
      "metadata": {
        "id": "VEh4dPxTBTP6"
      },
      "outputs": [],
      "source": [
        "import os\n",
        "\n",
        "WORKING_DIR = \"/content/drive/MyDrive/Research/CogEval-1\"\n",
        "os.environ['WORKING_DIR'] = WORKING_DIR\n",
        "\n",
        "TEMP_OUTPUT_DIR = \"/content/model_output/\"\n",
        "os.environ['TEMP_OUTPUT_DIR'] = TEMP_OUTPUT_DIR"
      ]
    },
    {
      "cell_type": "code",
      "execution_count": null,
      "metadata": {
        "id": "4X-GCmCqf3Mp"
      },
      "outputs": [],
      "source": [
        "!mkdir $TEMP_OUTPUT_DIR"
      ]
    },
    {
      "cell_type": "code",
      "execution_count": null,
      "metadata": {
        "id": "V1BUiVhS9S_T"
      },
      "outputs": [],
      "source": [
        "%cd $WORKING_DIR"
      ]
    },
    {
      "cell_type": "markdown",
      "metadata": {
        "id": "KYSD_jTCBzi4"
      },
      "source": [
        "## Install libraries"
      ]
    },
    {
      "cell_type": "code",
      "execution_count": null,
      "metadata": {
        "id": "drDEBAJT82Zi"
      },
      "outputs": [],
      "source": [
        "# clone the AllenNLP repo if needed\n",
        "# !git clone https://github.com/allenai/allennlp.git"
      ]
    },
    {
      "cell_type": "code",
      "execution_count": null,
      "metadata": {
        "id": "95mzCQW5Dc0R"
      },
      "outputs": [],
      "source": [
        "%cd $WORKING_DIR/allennlp/"
      ]
    },
    {
      "cell_type": "code",
      "execution_count": null,
      "metadata": {
        "id": "nUtksEJhFEdT"
      },
      "outputs": [],
      "source": [
        "%pip install -U pip setuptools wheel"
      ]
    },
    {
      "cell_type": "code",
      "execution_count": null,
      "metadata": {
        "id": "SCGewzv-9VRK"
      },
      "outputs": [],
      "source": [
        "!pip install --editable ."
      ]
    },
    {
      "cell_type": "code",
      "execution_count": null,
      "metadata": {
        "id": "Cf3ot82PFCbz"
      },
      "outputs": [],
      "source": [
        "%pip install allennlp-models"
      ]
    },
    {
      "cell_type": "code",
      "execution_count": null,
      "metadata": {
        "id": "QRimxjFfCH6i"
      },
      "outputs": [],
      "source": [
        "# install PyTorch version with CUDA compatible with A100, if needed\n",
        "# !pip install torch==1.11.0+cu113 --extra-index-url https://download.pytorch.org/whl/cu113"
      ]
    },
    {
      "cell_type": "markdown",
      "metadata": {
        "id": "8EzdIHPkCK07"
      },
      "source": [
        "## Training"
      ]
    },
    {
      "cell_type": "code",
      "execution_count": null,
      "metadata": {
        "id": "GBHFgC85CNyb"
      },
      "outputs": [],
      "source": [
        "%cd $WORKING_DIR/SNLI"
      ]
    },
    {
      "cell_type": "code",
      "execution_count": null,
      "metadata": {
        "id": "npZ8I2e0gPmI"
      },
      "outputs": [],
      "source": [
        "import os\n",
        "os.environ['CUDA_LAUNCH_BLOCKING'] = \"1\""
      ]
    },
    {
      "cell_type": "code",
      "execution_count": null,
      "metadata": {
        "id": "WTnoNYb5WiWC"
      },
      "outputs": [],
      "source": [
        "!mkdir $WORKING_DIR/SNLI/checkpoints"
      ]
    },
    {
      "cell_type": "markdown",
      "metadata": {
        "id": "VEYmJ4o1UPVW"
      },
      "source": [
        "### RoBERTa"
      ]
    },
    {
      "cell_type": "code",
      "execution_count": null,
      "metadata": {
        "id": "vlDqQPKk93PL"
      },
      "outputs": [],
      "source": [
        "!allennlp train ./model_config/snli_roberta.jsonnet -s  $TEMP_OUTPUT_DIR"
      ]
    },
    {
      "cell_type": "code",
      "execution_count": null,
      "metadata": {
        "id": "ihOdrE6TV6Bm"
      },
      "outputs": [],
      "source": [
        "!mkdir $WORKING_DIR/SNLI/checkpoints/RoBERTa"
      ]
    },
    {
      "cell_type": "code",
      "execution_count": null,
      "metadata": {
        "id": "Xg-Q6JlfyMIt"
      },
      "outputs": [],
      "source": [
        "!cp -r $TEMP_OUTPUT_DIR/* $WORKING_DIR/SNLI/checkpoints/RoBERTa/"
      ]
    },
    {
      "cell_type": "code",
      "execution_count": null,
      "metadata": {
        "id": "B05W1Hq-3DVX"
      },
      "outputs": [],
      "source": [
        "!ls $WORKING_DIR/SNLI/checkpoints/RoBERTa/"
      ]
    },
    {
      "cell_type": "code",
      "execution_count": null,
      "metadata": {
        "id": "3wW83VyAWLmh"
      },
      "outputs": [],
      "source": [
        "!rm -r $TEMP_OUTPUT_DIR/"
      ]
    },
    {
      "cell_type": "markdown",
      "metadata": {
        "id": "1KhApR6UUUke"
      },
      "source": [
        "### LSTM ESIM"
      ]
    },
    {
      "cell_type": "code",
      "execution_count": null,
      "metadata": {
        "id": "YWzxMT0oFc8h"
      },
      "outputs": [],
      "source": [
        "!allennlp train ./model_config/esim.jsonnet -s  $TEMP_OUTPUT_DIR"
      ]
    },
    {
      "cell_type": "code",
      "execution_count": null,
      "metadata": {
        "id": "mJoQA9uBWt0z"
      },
      "outputs": [],
      "source": [
        "!mkdir $WORKING_DIR/SNLI/checkpoints/ESIM"
      ]
    },
    {
      "cell_type": "code",
      "execution_count": null,
      "metadata": {
        "id": "6Tfc6MKnWt25"
      },
      "outputs": [],
      "source": [
        "!cp -r $TEMP_OUTPUT_DIR/* $WORKING_DIR/SNLI/checkpoints/ESIM/"
      ]
    },
    {
      "cell_type": "code",
      "execution_count": null,
      "metadata": {
        "id": "DGyENP24WxL2"
      },
      "outputs": [],
      "source": [
        "!ls $WORKING_DIR/SNLI/checkpoints/ESIM/"
      ]
    }
  ],
  "metadata": {
    "accelerator": "GPU",
    "colab": {
      "provenance": []
    },
    "gpuClass": "premium",
    "kernelspec": {
      "display_name": "Python 3 (ipykernel)",
      "language": "python",
      "name": "python3"
    },
    "language_info": {
      "codemirror_mode": {
        "name": "ipython",
        "version": 3
      },
      "file_extension": ".py",
      "mimetype": "text/x-python",
      "name": "python",
      "nbconvert_exporter": "python",
      "pygments_lexer": "ipython3",
      "version": "3.8.16"
    }
  },
  "nbformat": 4,
  "nbformat_minor": 0
}
