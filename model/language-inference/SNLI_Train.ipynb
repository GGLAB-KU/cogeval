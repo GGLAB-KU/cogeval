{
  "cells": [
    {
      "cell_type": "markdown",
      "source": [
        "## Initialization\n",
        "\n"
      ],
      "metadata": {
        "id": "wytSQEKSXRTR"
      }
    },
    {
      "cell_type": "code",
      "execution_count": null,
      "metadata": {
        "id": "qRPOcMp907Mz"
      },
      "outputs": [],
      "source": [
        "# check the GPU model\n",
        "!nvidia-smi"
      ]
    },
    {
      "cell_type": "code",
      "source": [
        "from google.colab import drive\n",
        "drive.mount('/content/drive')"
      ],
      "metadata": {
        "id": "-RwHDw_hez80"
      },
      "execution_count": null,
      "outputs": []
    },
    {
      "cell_type": "code",
      "source": [
        "import os\n",
        "\n",
        "WORKING_DIR = \"/content/drive/MyDrive/Research/CogEval-1\"\n",
        "os.environ['WORKING_DIR'] = WORKING_DIR\n",
        "\n",
        "TEMP_OUTPUT_DIR = \"/content/model_output/\"\n",
        "os.environ['TEMP_OUTPUT_DIR'] = TEMP_OUTPUT_DIR"
      ],
      "metadata": {
        "id": "VEh4dPxTBTP6"
      },
      "execution_count": null,
      "outputs": []
    },
    {
      "cell_type": "code",
      "source": [
        "!mkdir $TEMP_OUTPUT_DIR"
      ],
      "metadata": {
        "id": "4X-GCmCqf3Mp"
      },
      "execution_count": null,
      "outputs": []
    },
    {
      "cell_type": "code",
      "execution_count": null,
      "metadata": {
        "id": "V1BUiVhS9S_T"
      },
      "outputs": [],
      "source": [
        "%cd $WORKING_DIR"
      ]
    },
    {
      "cell_type": "markdown",
      "source": [
        "## Install libraries"
      ],
      "metadata": {
        "id": "KYSD_jTCBzi4"
      }
    },
    {
      "cell_type": "code",
      "execution_count": null,
      "metadata": {
        "id": "drDEBAJT82Zi"
      },
      "outputs": [],
      "source": [
        "# clone the AllenNLP repo if needed\n",
        "# !git clone https://github.com/allenai/allennlp.git"
      ]
    },
    {
      "cell_type": "code",
      "execution_count": null,
      "metadata": {
        "id": "95mzCQW5Dc0R"
      },
      "outputs": [],
      "source": [
        "%cd $WORKING_DIR/allennlp/"
      ]
    },
    {
      "cell_type": "code",
      "execution_count": null,
      "metadata": {
        "id": "nUtksEJhFEdT"
      },
      "outputs": [],
      "source": [
        "!pip install -U pip setuptools wheel"
      ]
    },
    {
      "cell_type": "code",
      "execution_count": null,
      "metadata": {
        "id": "SCGewzv-9VRK"
      },
      "outputs": [],
      "source": [
        "!pip install --editable ."
      ]
    },
    {
      "cell_type": "code",
      "execution_count": null,
      "metadata": {
        "id": "Cf3ot82PFCbz"
      },
      "outputs": [],
      "source": [
        "!pip install allennlp-models"
      ]
    },
    {
      "cell_type": "code",
      "source": [
        "# install PyTorch version with CUDA compatible with A100, if needed\n",
        "# !pip install torch==1.11.0+cu113 --extra-index-url https://download.pytorch.org/whl/cu113"
      ],
      "metadata": {
        "id": "QRimxjFfCH6i"
      },
      "execution_count": null,
      "outputs": []
    },
    {
      "cell_type": "markdown",
      "source": [
        "## Training"
      ],
      "metadata": {
        "id": "8EzdIHPkCK07"
      }
    },
    {
      "cell_type": "code",
      "source": [
        "%cd $WORKING_DIR/SNLI"
      ],
      "metadata": {
        "id": "GBHFgC85CNyb"
      },
      "execution_count": null,
      "outputs": []
    },
    {
      "cell_type": "code",
      "source": [
        "import os\n",
        "os.environ['CUDA_LAUNCH_BLOCKING'] = \"1\""
      ],
      "metadata": {
        "id": "npZ8I2e0gPmI"
      },
      "execution_count": null,
      "outputs": []
    },
    {
      "cell_type": "code",
      "source": [
        "!mkdir $WORKING_DIR/SNLI/checkpoints"
      ],
      "metadata": {
        "id": "WTnoNYb5WiWC"
      },
      "execution_count": null,
      "outputs": []
    },
    {
      "cell_type": "markdown",
      "source": [
        "### RoBERTa"
      ],
      "metadata": {
        "id": "VEYmJ4o1UPVW"
      }
    },
    {
      "cell_type": "code",
      "execution_count": null,
      "metadata": {
        "id": "vlDqQPKk93PL"
      },
      "outputs": [],
      "source": [
        "!allennlp train ./model_config/snli_roberta.jsonnet -s  $TEMP_OUTPUT_DIR"
      ]
    },
    {
      "cell_type": "code",
      "source": [
        "!mkdir $WORKING_DIR/SNLI/checkpoints/RoBERTa"
      ],
      "metadata": {
        "id": "ihOdrE6TV6Bm"
      },
      "execution_count": null,
      "outputs": []
    },
    {
      "cell_type": "code",
      "execution_count": null,
      "metadata": {
        "id": "Xg-Q6JlfyMIt"
      },
      "outputs": [],
      "source": [
        "!cp -r $TEMP_OUTPUT_DIR/* $WORKING_DIR/SNLI/checkpoints/RoBERTa/"
      ]
    },
    {
      "cell_type": "code",
      "source": [
        "!ls $WORKING_DIR/SNLI/checkpoints/RoBERTa/"
      ],
      "metadata": {
        "id": "B05W1Hq-3DVX"
      },
      "execution_count": null,
      "outputs": []
    },
    {
      "cell_type": "code",
      "source": [
        "!rm -r $TEMP_OUTPUT_DIR/"
      ],
      "metadata": {
        "id": "3wW83VyAWLmh"
      },
      "execution_count": null,
      "outputs": []
    },
    {
      "cell_type": "markdown",
      "source": [
        "### LSTM ESIM"
      ],
      "metadata": {
        "id": "1KhApR6UUUke"
      }
    },
    {
      "cell_type": "code",
      "execution_count": null,
      "metadata": {
        "id": "YWzxMT0oFc8h"
      },
      "outputs": [],
      "source": [
        "!allennlp train ./model_config/esim.jsonnet -s  $TEMP_OUTPUT_DIR"
      ]
    },
    {
      "cell_type": "code",
      "source": [
        "!mkdir $WORKING_DIR/SNLI/checkpoints/ESIM"
      ],
      "metadata": {
        "id": "mJoQA9uBWt0z"
      },
      "execution_count": null,
      "outputs": []
    },
    {
      "cell_type": "code",
      "source": [
        "!cp -r $TEMP_OUTPUT_DIR/* $WORKING_DIR/SNLI/checkpoints/ESIM/"
      ],
      "metadata": {
        "id": "6Tfc6MKnWt25"
      },
      "execution_count": null,
      "outputs": []
    },
    {
      "cell_type": "code",
      "source": [
        "!ls $WORKING_DIR/SNLI/checkpoints/ESIM/"
      ],
      "metadata": {
        "id": "DGyENP24WxL2"
      },
      "execution_count": null,
      "outputs": []
    }
  ],
  "metadata": {
    "accelerator": "GPU",
    "colab": {
      "provenance": []
    },
    "gpuClass": "premium",
    "kernelspec": {
      "display_name": "Python 3 (ipykernel)",
      "language": "python",
      "name": "python3"
    },
    "language_info": {
      "codemirror_mode": {
        "name": "ipython",
        "version": 3
      },
      "file_extension": ".py",
      "mimetype": "text/x-python",
      "name": "python",
      "nbconvert_exporter": "python",
      "pygments_lexer": "ipython3",
      "version": "3.9.7"
    }
  },
  "nbformat": 4,
  "nbformat_minor": 0
}